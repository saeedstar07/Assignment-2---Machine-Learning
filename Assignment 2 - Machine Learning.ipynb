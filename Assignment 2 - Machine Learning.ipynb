{
 "cells": [
  {
   "cell_type": "code",
   "execution_count": 8,
   "id": "7d7ad538",
   "metadata": {},
   "outputs": [
    {
     "name": "stdout",
     "output_type": "stream",
     "text": [
      " * \n",
      " *  * \n",
      " *  *  * \n",
      " *  *  *  * \n",
      " *  *  *  *  * \n",
      " *  *  *  * \n",
      " *  *  * \n",
      " *  * \n",
      " * \n",
      "\n"
     ]
    }
   ],
   "source": [
    "row = 5\n",
    "\n",
    "for i in range(row):\n",
    "    print(\" * \"*(i+1))\n",
    "\n",
    "for j in range(row):\n",
    "    print(\" * \"*(row-j-1))"
   ]
  },
  {
   "cell_type": "code",
   "execution_count": 9,
   "id": "cc89d5d0",
   "metadata": {},
   "outputs": [
    {
     "name": "stdout",
     "output_type": "stream",
     "text": [
      "20 40 60 80 100 "
     ]
    }
   ],
   "source": [
    "my_list = [10, 20, 30, 40, 50, 60, 70, 80, 90, 100]\n",
    "\n",
    "for i in my_list[1::2]:\n",
    "    print(i, end=\" \")"
   ]
  },
  {
   "cell_type": "code",
   "execution_count": 7,
   "id": "0ea3f7c5",
   "metadata": {},
   "outputs": [
    {
     "name": "stdout",
     "output_type": "stream",
     "text": [
      "[23, 'Python', 23.98]\n",
      "[<class 'int'>, <class 'str'>, <class 'float'>]\n"
     ]
    }
   ],
   "source": [
    "x = [23, 'Python',23.98]\n",
    "type_of_elements = []\n",
    "\n",
    "for i in x:\n",
    "    type_of_elements.append(type(i))\n",
    "\n",
    "print(x)\n",
    "print(type_of_elements)"
   ]
  },
  {
   "cell_type": "code",
   "execution_count": 10,
   "id": "096619ac",
   "metadata": {},
   "outputs": [
    {
     "name": "stdout",
     "output_type": "stream",
     "text": [
      "[1, 2, 3, 4, 5]\n"
     ]
    }
   ],
   "source": [
    "def unique_list(l):\n",
    "  x = []\n",
    "  for i in l:\n",
    "    if i not in x:\n",
    "      x.append(i)\n",
    "  return x\n",
    "\n",
    "print(unique_list([1,2,3,3,3,3,4,5])) "
   ]
  },
  {
   "cell_type": "code",
   "execution_count": 11,
   "id": "411ad7c1",
   "metadata": {},
   "outputs": [
    {
     "name": "stdout",
     "output_type": "stream",
     "text": [
      "Enter String: The quick Brow Fox\n",
      "Number of uppercase letters: 3\n",
      "Number of lowercase letters: 12\n"
     ]
    }
   ],
   "source": [
    "string = input(\"Enter String: \")\n",
    "def count_letters(string):\n",
    "    uppercase_count = 0\n",
    "    lowercase_count = 0\n",
    "    for letter in string:\n",
    "        if letter.isupper():\n",
    "            uppercase_count += 1\n",
    "        elif letter.islower():\n",
    "            lowercase_count += 1\n",
    "    return (uppercase_count, lowercase_count)\n",
    "uppercase, lowercase = count_letters(string)\n",
    "print(\"Number of uppercase letters:\", uppercase)\n",
    "print(\"Number of lowercase letters:\", lowercase)"
   ]
  }
 ],
 "metadata": {
  "kernelspec": {
   "display_name": "Python 3 (ipykernel)",
   "language": "python",
   "name": "python3"
  },
  "language_info": {
   "codemirror_mode": {
    "name": "ipython",
    "version": 3
   },
   "file_extension": ".py",
   "mimetype": "text/x-python",
   "name": "python",
   "nbconvert_exporter": "python",
   "pygments_lexer": "ipython3",
   "version": "3.9.13"
  }
 },
 "nbformat": 4,
 "nbformat_minor": 5
}
